{
  "nbformat": 4,
  "nbformat_minor": 0,
  "metadata": {
    "colab": {
      "name": "Copy of Python Programming: Conditional (If) Statements",
      "provenance": [],
      "collapsed_sections": [],
      "toc_visible": true
    },
    "kernelspec": {
      "name": "python3",
      "display_name": "Python 3"
    }
  },
  "cells": [
    {
      "cell_type": "markdown",
      "metadata": {
        "id": "56wIrIHaAD6t"
      },
      "source": [
        "<font color=\"green\">*To start working on this notebook, or any other notebook that we will use in this course, we will need to save our own copy of it. We can do this by clicking File > Save a Copy in Drive. We will then be able to make edits to our own copy of this notebook.*</font>"
      ]
    },
    {
      "cell_type": "markdown",
      "metadata": {
        "id": "LVp8C4oB0yzk"
      },
      "source": [
        "# Python Programming: Conditional (If) Statements"
      ]
    },
    {
      "cell_type": "markdown",
      "metadata": {
        "id": "z4xtgHIJ1mui"
      },
      "source": [
        "## 1.0 Overview"
      ]
    },
    {
      "cell_type": "markdown",
      "metadata": {
        "id": "fS6UBkKd2DMo"
      },
      "source": [
        "So as to write useful python programs, we almost always need the ability to check conditions and apply a certain operation accordingly. Conditional statements like the if statement provide us with that ability."
      ]
    },
    {
      "cell_type": "markdown",
      "metadata": {
        "id": "lsZdOcCiAQdJ"
      },
      "source": [
        "##1.1 If"
      ]
    },
    {
      "cell_type": "code",
      "metadata": {
        "id": "-6728JH-2Esz",
        "colab": {
          "base_uri": "https://localhost:8080/"
        },
        "outputId": "aa846287-e1b2-4676-a4c7-c959006a9672"
      },
      "source": [
        "# Example 1\n",
        "# We can write an if statement by using the if keyword as shown:\n",
        "#\n",
        "x = 200\n",
        "y = 100\n",
        "if y < x:\n",
        "  print(\"y is less than x\")"
      ],
      "execution_count": null,
      "outputs": [
        {
          "output_type": "stream",
          "text": [
            "y is less than x\n"
          ],
          "name": "stdout"
        }
      ]
    },
    {
      "cell_type": "code",
      "metadata": {
        "id": "ueDGWWPm2FHW"
      },
      "source": [
        "# Example 2\n",
        "# Below is another example of an if statement\n",
        "#\n",
        "x = 1\n",
        "y = 7\n",
        "\n",
        "# let's find out if x is greater than 7\n",
        "if x > y: \n",
        "  print('yes')\n"
      ],
      "execution_count": null,
      "outputs": []
    },
    {
      "cell_type": "markdown",
      "metadata": {
        "id": "MB_zJqo-41tc"
      },
      "source": [
        "### <font color=\"green\">1.1 Challenges</font>"
      ]
    },
    {
      "cell_type": "code",
      "metadata": {
        "id": "DD_AaNYQFjQw",
        "colab": {
          "base_uri": "https://localhost:8080/"
        },
        "outputId": "ad72d45b-edc6-4e88-9430-7139a1130067"
      },
      "source": [
        "# Challenge 1\n",
        "# In our first challenge, we will find out if x is less than 7 \n",
        "# If so, we will print out yes.\n",
        "#\n",
        "\n",
        "# We first declare and assign 1 to variable x and 7 to variable y\n",
        "x = 1\n",
        "y = 7\n",
        "\n",
        "if x < y:\n",
        "  print('yes')"
      ],
      "execution_count": null,
      "outputs": [
        {
          "output_type": "stream",
          "text": [
            "yes\n"
          ],
          "name": "stdout"
        }
      ]
    },
    {
      "cell_type": "code",
      "metadata": {
        "id": "56hXs9yRFjFb",
        "colab": {
          "base_uri": "https://localhost:8080/"
        },
        "outputId": "daa524f3-1d4d-4efd-cd7e-aa839c380d0d"
      },
      "source": [
        "# Challenge 2\n",
        "# Let's find out if x == true. If so, we will print out yes.\n",
        "# We won't need to declare any variable in this challenge.\n",
        "#\n",
        "x = 1\n",
        "if x == True:\n",
        "  print('yes')"
      ],
      "execution_count": null,
      "outputs": [
        {
          "output_type": "stream",
          "text": [
            "yes\n"
          ],
          "name": "stdout"
        }
      ]
    },
    {
      "cell_type": "code",
      "metadata": {
        "id": "b6R-wr4xFp5e"
      },
      "source": [
        "# Challenge 3\n",
        "# Let's find out if y is true. If so, we will print out yes. \n",
        "# We won't need to declare any variable in this challenge as well\n",
        "#\n",
        "if y == True:\n",
        "  print('yes')"
      ],
      "execution_count": null,
      "outputs": []
    },
    {
      "cell_type": "markdown",
      "metadata": {
        "id": "e8-T8Xw-1qYp"
      },
      "source": [
        "## 1.2 Elif"
      ]
    },
    {
      "cell_type": "code",
      "metadata": {
        "id": "ERoyYLdk2MLL",
        "colab": {
          "base_uri": "https://localhost:8080/"
        },
        "outputId": "4fa53c5e-5aea-44dd-f7a0-d6def5d90139"
      },
      "source": [
        "# Example 1\n",
        "# The elif keyword is a keyword that will try another condition \n",
        "# if the previous condition was not true.\n",
        "# The example below shows how the elif keyword can be used.\n",
        "# \n",
        "x = 33\n",
        "y = 33\n",
        "\n",
        "if y < x:\n",
        "  print(\"y is less than x\")\n",
        "elif x == y:\n",
        "  print(\"x and y are equal\")"
      ],
      "execution_count": null,
      "outputs": [
        {
          "output_type": "stream",
          "text": [
            "x and y are equal\n"
          ],
          "name": "stdout"
        }
      ]
    },
    {
      "cell_type": "code",
      "metadata": {
        "id": "GT8Q7jdf2Mze",
        "colab": {
          "base_uri": "https://localhost:8080/"
        },
        "outputId": "ba286940-70a1-4888-e684-96443f5e482c"
      },
      "source": [
        "# Example 2\n",
        "# This is another example of how the elif keyword can be used.\n",
        "#\n",
        "choice = \"a\"\n",
        "if choice == 'a':\n",
        "    print(\"You chose 'a'.\")\n",
        "elif choice == 'b':\n",
        "    print(\"You chose 'b'.\")\n",
        "elif choice == 'c':\n",
        "    print(\"You chose 'c'.\")"
      ],
      "execution_count": null,
      "outputs": [
        {
          "output_type": "stream",
          "text": [
            "You chose 'a'.\n"
          ],
          "name": "stdout"
        }
      ]
    },
    {
      "cell_type": "markdown",
      "metadata": {
        "id": "Rkw7o23I2N3w"
      },
      "source": [
        "### <font color=\"green\">1.2 Challenges </font>"
      ]
    },
    {
      "cell_type": "code",
      "metadata": {
        "id": "4yVpcy0f2RBM",
        "colab": {
          "base_uri": "https://localhost:8080/"
        },
        "outputId": "c4d6495e-a317-4701-dd4f-feff001dbcee"
      },
      "source": [
        "# Challenge 1\n",
        "# Let's now write a program that reads an integer \n",
        "# from a user then displays a message indicating \n",
        "# whether the integer is even or odd.\n",
        "#\n",
        "x = input(\"Enter number: \")\n",
        "if int(x)%2 == 0:\n",
        "  print(\"Number is even!\")\n",
        "elif int(x)% 2 ==1:\n",
        "  print(\"Number is odd!\")\n",
        "\n"
      ],
      "execution_count": null,
      "outputs": [
        {
          "output_type": "stream",
          "text": [
            "Enter number: 67\n",
            "Number is odd!\n"
          ],
          "name": "stdout"
        }
      ]
    },
    {
      "cell_type": "code",
      "metadata": {
        "id": "LN1DVYd52R2_",
        "colab": {
          "base_uri": "https://localhost:8080/"
        },
        "outputId": "0747bc69-e1e2-420a-c835-4bf4d7a058ac"
      },
      "source": [
        "# Challenge 2: \n",
        "# We now write a program that reads a input from a user. \n",
        "# If the user enters a, e, i, o or u then our program should \n",
        "# display a message indicating that the entered letter is a vowel. \n",
        "# If our user enters y then our program should display a message \n",
        "# indicating that sometimes y is a vowel, and sometimes y is a consonant. \n",
        "# Otherwise our program should display a message indicating that the\n",
        "# letter is a consonant.\n",
        "#\n",
        "letter = str(input(\"Enter a letter: \"))\n",
        "if letter == 'a' or letter == 'e' or letter == 'i' or letter == 'o' or letter == 'u':\n",
        " print(\"The entered letter is a vowel!\")\n",
        "elif letter == 'y':\n",
        "  print(\"The entered letter is sometimes a vowel and sometimes a consonant!\")\n",
        "else:\n",
        "  print(\"The entered letter is a consonant\")\n"
      ],
      "execution_count": null,
      "outputs": [
        {
          "output_type": "stream",
          "text": [
            "Enter a letter: y\n",
            "The entered letter is sometimes a vowel and sometimes a consonant!\n"
          ],
          "name": "stdout"
        }
      ]
    },
    {
      "cell_type": "code",
      "metadata": {
        "id": "WyGQSsN22Rkg",
        "colab": {
          "base_uri": "https://localhost:8080/"
        },
        "outputId": "72f6a948-0da9-497e-c557-dee9c7d2e598"
      },
      "source": [
        "# Challenge 3\n",
        "# Let's now also write another program that asks for a number and computes the\n",
        "# square of that number. If the square is 100 or greater, print the squared value\n",
        "# and the word 'big'. Otherwise if the square is 50 or greater, print the\n",
        "# squared value and the word 'medium'. Otherwise just print 'too small to bother with'.\n",
        "# Hint: To compute squared, use x*x or x**2\n",
        "#\n",
        "x = input(\"Input number: \")\n",
        "y = int(x)**2\n",
        "if y > 100:\n",
        "  print(y, ':Big')\n",
        "elif y > 50:\n",
        "  print(y, ':Medium')\n",
        "elif y < 50:\n",
        "  print('Too small to bother!') "
      ],
      "execution_count": null,
      "outputs": [
        {
          "output_type": "stream",
          "text": [
            "Input number: 8\n",
            "64 :Medium\n"
          ],
          "name": "stdout"
        }
      ]
    },
    {
      "cell_type": "markdown",
      "metadata": {
        "id": "bOZph-F21tuy"
      },
      "source": [
        "## 1.3 Else"
      ]
    },
    {
      "cell_type": "code",
      "metadata": {
        "id": "F8nzCtX82v-A",
        "colab": {
          "base_uri": "https://localhost:8080/"
        },
        "outputId": "7a70defe-c73c-4f16-a44e-b7ec8e8bbb6d"
      },
      "source": [
        "# Example 1\n",
        "# The else keyword will catch anything else which isn't caught by the preceding conditions.\n",
        "# A use case of else keyword is in the following example. \n",
        "#\n",
        "\n",
        "# Declaring our variables\n",
        "x = 134\n",
        "y = 33\n",
        "\n",
        "if y > x:\n",
        "  print(\"y is greater than x\")\n",
        "elif x == y:\n",
        "  print(\"x and y are equal\")\n",
        "else:\n",
        "  print(\"x is greater than y\")"
      ],
      "execution_count": null,
      "outputs": [
        {
          "output_type": "stream",
          "text": [
            "x is greater than y\n"
          ],
          "name": "stdout"
        }
      ]
    },
    {
      "cell_type": "code",
      "metadata": {
        "id": "Zk9b5LJF2wcB",
        "colab": {
          "base_uri": "https://localhost:8080/"
        },
        "outputId": "c51ded21-d23e-4229-dd0e-3495908cab84"
      },
      "source": [
        "# Example 2\n",
        "# The else keyword can also be used without elif as shown\n",
        "#\n",
        "\n",
        "# Prompting the user for an input\n",
        "temp_outside = float(input('What is the temperature outside? '))\n",
        "\n",
        "if temp_outside > 12:\n",
        "  print('No need for a sweater')\n",
        "else:\n",
        "  print('You need an sweater') "
      ],
      "execution_count": null,
      "outputs": [
        {
          "output_type": "stream",
          "text": [
            "What is the temperature outside? 24\n",
            "No need for a sweater\n"
          ],
          "name": "stdout"
        }
      ]
    },
    {
      "cell_type": "code",
      "metadata": {
        "id": "HaGipQqmvPXE",
        "colab": {
          "base_uri": "https://localhost:8080/"
        },
        "outputId": "279954b4-079f-428b-b159-6e3fd38f3aca"
      },
      "source": [
        "# Example 3\n",
        "# We should also note that indentation is significantly important as shown\n",
        "# \n",
        "\n",
        "# Declaring our varioable\n",
        "x = 7\n",
        "\n",
        "if x > 12:\n",
        "    print('x is greater than 12')\n",
        "    if x >= 17:\n",
        "        print ('x is also at least 17')\n",
        "elif x > 7:\n",
        "    print ('x is greater than 7 but not greater than 12')\n",
        "else:\n",
        "    print ('no condition matched')\n",
        "    print ('so x is 7 or less')"
      ],
      "execution_count": null,
      "outputs": [
        {
          "output_type": "stream",
          "text": [
            "no condition matched\n",
            "so x is 7 or less\n"
          ],
          "name": "stdout"
        }
      ]
    },
    {
      "cell_type": "markdown",
      "metadata": {
        "id": "X5rie0KH2xAp"
      },
      "source": [
        "### <font color=\"green\"> 1.3 Challenges </font>"
      ]
    },
    {
      "cell_type": "code",
      "metadata": {
        "id": "z3TvASOt2zIt",
        "colab": {
          "base_uri": "https://localhost:8080/"
        },
        "outputId": "1af1c717-1916-48d2-de2b-881af895f91b"
      },
      "source": [
        "# Challenge 1\n",
        "# Let's write a program that reads a month and day from the user. \n",
        "# If the month and day matches one of the holidays listed previously \n",
        "# then the program should display the Kenyan holiday’s name. \n",
        "# Otherwise our program should indicate that the entered month and day \n",
        "# do not correspond to a holiday. (You should use the else keyword)\n",
        "#\n",
        "month = input(\"Enter month: \")\n",
        "date = input(\"Enter date: \")\n",
        "if month == 6:\n",
        "  if date ==1:\n",
        "    print(\"Madaraka Day!\")\n",
        "elif month == 10:\n",
        "  if date == 20:\n",
        "    print(\"Mashujaa Day!\")\n",
        "elif month == 12:\n",
        "  if date == 12:\n",
        "    print(\"Jamhuri Day!\")\n",
        "else:\n",
        "  print(\"Month \" + str(month) + \" Date \" + str(date) + \" does not correspond to a holiday.\")\n"
      ],
      "execution_count": null,
      "outputs": [
        {
          "output_type": "stream",
          "text": [
            "Enter month: 6\n",
            "Enter date: 13\n",
            "Month 6 Date 13 does not correspond to a holiday.\n"
          ],
          "name": "stdout"
        }
      ]
    },
    {
      "cell_type": "code",
      "metadata": {
        "id": "szGqVsAc2zft",
        "colab": {
          "base_uri": "https://localhost:8080/"
        },
        "outputId": "bd3300aa-55ad-4d68-820f-4a4951f200c2"
      },
      "source": [
        "# Challenge 2\n",
        "# Write a program that reads a wavelength from the user and reports its color. \n",
        "# Display an appropriate error message if the wavelength entered by the user \n",
        "# is outside of the visible spectrum. \n",
        "# (You can do external research on this challenge to determine the wavelength).\n",
        "# You should use the else keyword.\n",
        "#\n",
        "x = int(input(\"Enter wavelength in nm: \"))\n",
        "if x >= 380 and x < 450:\n",
        "  print(\"VIOLET\")\n",
        "elif x >= 450 and x < 495:\n",
        "  print(\"BLUE\")\n",
        "elif x >= 495 and x < 570:\n",
        "  print(\"GREEN\")\n",
        "elif x >= 570 and x < 590:\n",
        "  print(\"YELLOW\")\n",
        "elif x >= 590 and x < 620:\n",
        "  print(\"ORANGE\")\n",
        "elif x >= 620 and x < 750:\n",
        "  print(\"RED\")\n",
        "else:\n",
        "  print(\"The entered wavelength is outside visible spectrum!\")"
      ],
      "execution_count": null,
      "outputs": [
        {
          "output_type": "stream",
          "text": [
            "Enter wavelength in nm: 900\n",
            "The entered wavelength is outside visible spectrum!\n"
          ],
          "name": "stdout"
        }
      ]
    },
    {
      "cell_type": "code",
      "metadata": {
        "id": "1uHkXVZtuMPK",
        "colab": {
          "base_uri": "https://localhost:8080/"
        },
        "outputId": "47d05e19-7fe4-4817-d5eb-e5c2ee1a2c11"
      },
      "source": [
        "# Challenge 3\n",
        "# Let's create a program that reads the name of a month from the user as a string, \n",
        "# then displays the number of days in that month. \n",
        "# The length of a month varies from 28 to 31 days. \n",
        "# The program needs to also display “28 or 29 days” for February \n",
        "# so that leap years are taken into account.\n",
        "# The program should use the else keyword.\n",
        "# \n",
        "month = str(input(\"Enter month's name: \"))\n",
        "if month == 'January' or month == 'March' or month == 'May' or month == 'July' or month == 'August' or month == 'October' or month == 'December':\n",
        "  print(month + \" has 31 days\")\n",
        "elif month == 'April' or month == 'June' or month == 'September' or month == 'November':\n",
        "  print(month + \" has 30 days\")\n",
        "else:\n",
        "  print(month + \" has 28 or 29 days\")"
      ],
      "execution_count": null,
      "outputs": [
        {
          "output_type": "stream",
          "text": [
            "Enter month's name: February\n",
            "February has 28 or 29 days\n"
          ],
          "name": "stdout"
        }
      ]
    },
    {
      "cell_type": "markdown",
      "metadata": {
        "id": "qs4cjFqC1wm6"
      },
      "source": [
        "## 1.4 And"
      ]
    },
    {
      "cell_type": "code",
      "metadata": {
        "id": "QhXLc8z-2120",
        "colab": {
          "base_uri": "https://localhost:8080/"
        },
        "outputId": "d162ace0-8b87-4d09-a9e1-efe7ec99aa83"
      },
      "source": [
        "# Example 1\n",
        "# We can also use the and keyword to combine conditional statements.\n",
        "#\n",
        "\n",
        "# Declaring our variables\n",
        "x = 11\n",
        "y = 10\n",
        "z = 12\n",
        "\n",
        "if x > y and z > x:\n",
        "  print(\"Both conditions are True\")"
      ],
      "execution_count": null,
      "outputs": [
        {
          "output_type": "stream",
          "text": [
            "Both conditions are True\n"
          ],
          "name": "stdout"
        }
      ]
    },
    {
      "cell_type": "code",
      "metadata": {
        "id": "fRaI1Odr22lS",
        "colab": {
          "base_uri": "https://localhost:8080/"
        },
        "outputId": "081ebcc3-472c-4a9b-ff4c-2e383d216948"
      },
      "source": [
        "# Example 2\n",
        "# \n",
        "\n",
        "# Declaring our variables\n",
        "name = \"James\"    \n",
        "age  = 24 \n",
        "\n",
        "if name == \"James\" and age == 24:\n",
        "  print(\"Your name is James, and you are also 24 years old.\")"
      ],
      "execution_count": null,
      "outputs": [
        {
          "output_type": "stream",
          "text": [
            "Your name is James, and you are also 24 years old.\n"
          ],
          "name": "stdout"
        }
      ]
    },
    {
      "cell_type": "code",
      "metadata": {
        "id": "VB5NlzM922Ux",
        "colab": {
          "base_uri": "https://localhost:8080/"
        },
        "outputId": "a4e592a6-9efa-4b28-c6b7-20264171bf6d"
      },
      "source": [
        "# Example 3 \n",
        "#\n",
        "\n",
        "# Declaring our variables\n",
        "name = \"Lee\"      # Let's store our name in the name variable\n",
        "age  =  21        # Let's store our age in the age variable\n",
        "\n",
        "if name == \"James\" and age == 24:\n",
        "  print(\"Your name is James, and you are also 24 years old.\")\n",
        "else: \n",
        "  print(\"You are not James, who is 24 years old.\")"
      ],
      "execution_count": null,
      "outputs": [
        {
          "output_type": "stream",
          "text": [
            "You are not James, who is 24 years old.\n"
          ],
          "name": "stdout"
        }
      ]
    },
    {
      "cell_type": "markdown",
      "metadata": {
        "id": "UAFX7NgF23ab"
      },
      "source": [
        "### <font color=\"green\">1.4 Challenges</font>"
      ]
    },
    {
      "cell_type": "code",
      "metadata": {
        "id": "g26Rql1z25Ff",
        "colab": {
          "base_uri": "https://localhost:8080/"
        },
        "outputId": "07e85cd2-ea1a-49d5-9393-257b3c434827"
      },
      "source": [
        "# Challenge 1:\n",
        "# Given the 3 sides of a triangle x, y and z, let's find out \n",
        "# whether the triangle is equilateral, isosceles or obtuse.\n",
        "# Note: An equilateral triagnle has all sides are equal, \n",
        "# isosceles means that two of the sides are equal but not the third one, \n",
        "# obtuse means all 3 are different. The user will be prompted \n",
        "# to provide the values of x, y and z\n",
        "# \n",
        "x = input(\"Enter 1st side: \")\n",
        "y = input(\"Enter 2nd side: \")\n",
        "z = input(\"Enter 3rd side: \")\n",
        "if x == y and y == z and z ==x:\n",
        "  print(\"The following is an equilateral triangle.\" )\n",
        "elif (x==y and y!=z) or (y==z and z!=x) or (z==x and y!=z):\n",
        "  print(\"The following is an iscosceles triangle.\")\n",
        "else:\n",
        "  print(\"The following is an obtuse triangle.\") "
      ],
      "execution_count": null,
      "outputs": [
        {
          "output_type": "stream",
          "text": [
            "Enter 1st side: 4\n",
            "Enter 2nd side: 8\n",
            "Enter 3rd side: 4\n",
            "The following is an iscosceles triangle.\n"
          ],
          "name": "stdout"
        }
      ]
    },
    {
      "cell_type": "markdown",
      "metadata": {
        "id": "GLyWRU4w11-M"
      },
      "source": [
        "## 1.5 Or"
      ]
    },
    {
      "cell_type": "code",
      "metadata": {
        "id": "jIyeUjAq3D2n",
        "colab": {
          "base_uri": "https://localhost:8080/"
        },
        "outputId": "ae0dad69-711a-49bb-9861-1c8ac20ec660"
      },
      "source": [
        "# Example 1\n",
        "# We can also use the if keyword to combine conditional statements. \n",
        "#\n",
        "\n",
        "# Declaring our variables\n",
        "x = 10\n",
        "y = 11\n",
        "z = 9\n",
        "\n",
        "if x > y or x > z:\n",
        "  print(\"At least one of the conditions is True\")"
      ],
      "execution_count": null,
      "outputs": [
        {
          "output_type": "stream",
          "text": [
            "At least one of the conditions is True\n"
          ],
          "name": "stdout"
        }
      ]
    },
    {
      "cell_type": "code",
      "metadata": {
        "id": "bq7T-If83FVy",
        "colab": {
          "base_uri": "https://localhost:8080/"
        },
        "outputId": "f7b8e323-eb8b-4bc4-fc12-3ae9b39eb3ac"
      },
      "source": [
        "# Example 2\n",
        "#\n",
        "\n",
        "# Declaring our variables\n",
        "x = int(input(\"Enter value of x = \"))\n",
        "y = int(input(\"Enter value of y = \"))\n",
        " \n",
        "if (x >= 15) or (y <= 25):\n",
        "  print(\"x >= 15 or y <= 25 so if statement is True\")\n",
        "else:\n",
        "  print(\"Value of x < 15 and y > 25 so if statement is False!\")"
      ],
      "execution_count": null,
      "outputs": [
        {
          "output_type": "stream",
          "text": [
            "Enter value of x = 12\n",
            "Enter value of y = 18\n",
            "x >= 15 or y <= 25 so if statement is True\n"
          ],
          "name": "stdout"
        }
      ]
    },
    {
      "cell_type": "code",
      "metadata": {
        "id": "FN29xkMq3FnA",
        "colab": {
          "base_uri": "https://localhost:8080/"
        },
        "outputId": "f9b90377-3f59-4240-b49d-183425d254c6"
      },
      "source": [
        "# Example 3\n",
        "#\n",
        "\n",
        "# Declaring our variables\n",
        "w = 10\n",
        "x = 15\n",
        "y = 20\n",
        "z = 25\n",
        " \n",
        "if (w == 10 or x == 15) and (y == 16 or z == 25):\n",
        "  print(\"If statement is True\")\n",
        "else:\n",
        "  print(\"False\")"
      ],
      "execution_count": null,
      "outputs": [
        {
          "output_type": "stream",
          "text": [
            "If statement is True\n"
          ],
          "name": "stdout"
        }
      ]
    },
    {
      "cell_type": "markdown",
      "metadata": {
        "id": "TNIQRbN-3GNh"
      },
      "source": [
        "### <font color=\"green\">1.5 Challenges</font>"
      ]
    },
    {
      "cell_type": "code",
      "metadata": {
        "id": "Vhx4FY_P3J93",
        "colab": {
          "base_uri": "https://localhost:8080/"
        },
        "outputId": "8ac72d87-fe53-492a-d0a7-089f1f8c763b"
      },
      "source": [
        "# Challenge 1\n",
        "# Using the Or operator, let's create a function \n",
        "# that determines the type of a triangle \n",
        "# based on the lengths of its sides. A user will be inputting\n",
        "# the sides of the triange\n",
        "#\n",
        "x = input(\"Enter 1st side: \")\n",
        "y = input(\"Enter 2nd side: \")\n",
        "z = input(\"Enter 3rd side: \")\n",
        "if x == y and y == z and z ==x:\n",
        "  print(\"The following is an equilateral triangle.\" )\n",
        "elif (x==y and y!=z) or (y==z and z!=x) or (z==x and y!=z):\n",
        "  print(\"The following is an iscosceles triangle.\")\n",
        "else:\n",
        "  print(\"The following is an obtuse triangle.\") "
      ],
      "execution_count": null,
      "outputs": [
        {
          "output_type": "stream",
          "text": [
            "Enter 1st side: 12\n",
            "Enter 2nd side: 16\n",
            "Enter 3rd side: 20\n",
            "The following is an obtuse triangle.\n"
          ],
          "name": "stdout"
        }
      ]
    },
    {
      "cell_type": "code",
      "metadata": {
        "id": "VVh8NAu83KW6",
        "colab": {
          "base_uri": "https://localhost:8080/"
        },
        "outputId": "d12acbd9-9ee5-4167-bdda-84689ec5f5b6"
      },
      "source": [
        "# Challenge 2\n",
        "# Using the Or operator, let's create a function \n",
        "# that checks whether a number given \n",
        "# by a user is greater than 30 or greater than 100. \n",
        "#\n",
        "x = int(input(\"Enter number: \"))\n",
        "if x >30 or x>100:\n",
        "  print(\"The number is greater than 30 or greater than 100!\")\n",
        "else:\n",
        "  print(False)"
      ],
      "execution_count": null,
      "outputs": [
        {
          "output_type": "stream",
          "text": [
            "Enter number: 160\n",
            "The number is greater than 30 or greater than 100!\n"
          ],
          "name": "stdout"
        }
      ]
    },
    {
      "cell_type": "code",
      "metadata": {
        "id": "5sMQVqPQtUaO",
        "colab": {
          "base_uri": "https://localhost:8080/"
        },
        "outputId": "a7989644-d38b-4a40-f4da-132a29f5a397"
      },
      "source": [
        "# Challenge 3\n",
        "# Let's write a program that prompts a letter from a user. \n",
        "# When any of the letters a, e, i, o or u are entered, \n",
        "# then your program should display a message indicating that the entered letter is a vowel. \n",
        "# If the user enters y then your program should display a message \n",
        "# indicating that sometimes y is a vowel, and sometimes y is a consonant. \n",
        "# Else the program should display a message indicating that the letter is a consonant.\n",
        "#\n",
        "letter = str(input(\"Enter a letter: \"))\n",
        "if letter == 'a' or letter == 'e' or letter == 'i' or letter == 'o' or letter == 'u':\n",
        " print(\"The entered letter is a vowel!\")\n",
        "elif letter == 'y':\n",
        "  print(\"The entered letter is sometimes a vowel and sometimes a consonant!\")\n",
        "else:\n",
        "  print(\"The entered letter is a consonant\")"
      ],
      "execution_count": null,
      "outputs": [
        {
          "output_type": "stream",
          "text": [
            "Enter a letter: n\n",
            "The entered letter is a consonant\n"
          ],
          "name": "stdout"
        }
      ]
    }
  ]
}